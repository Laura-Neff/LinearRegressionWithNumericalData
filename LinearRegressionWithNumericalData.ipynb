{
  "nbformat": 4,
  "nbformat_minor": 0,
  "metadata": {
    "colab": {
      "name": "LinearRegressionWithNumericalData.ipynb",
      "provenance": [],
      "collapsed_sections": [],
      "authorship_tag": "ABX9TyMabUZKjEHu+N3eRENvdq+S",
      "include_colab_link": true
    },
    "kernelspec": {
      "name": "python3",
      "display_name": "Python 3"
    },
    "language_info": {
      "name": "python"
    }
  },
  "cells": [
    {
      "cell_type": "markdown",
      "metadata": {
        "id": "view-in-github",
        "colab_type": "text"
      },
      "source": [
        "<a href=\"https://colab.research.google.com/github/Laura-Neff/LinearRegressionWithNumericalData/blob/main/LinearRegressionWithNumericalData.ipynb\" target=\"_parent\"><img src=\"https://colab.research.google.com/assets/colab-badge.svg\" alt=\"Open In Colab\"/></a>"
      ]
    },
    {
      "cell_type": "code",
      "execution_count": null,
      "metadata": {
        "id": "LbMqWesMt3op"
      },
      "outputs": [],
      "source": [
        "import pandas as pd\n",
        "import matplotlib.pyplot as plt\n",
        "\n",
        "import seaborn as sns"
      ]
    },
    {
      "cell_type": "markdown",
      "source": [
        "Boston housing Data Set\n",
        "Source: https://www.kaggle.com/c/boston-housing\n",
        "crim - per capita crime rate by town.\n",
        "\n",
        "zn - proportion of residential land zoned for lots over 25,000 sq.ft.\n",
        "\n",
        "indus - proportion of non-retail business acres per town.\n",
        "\n",
        "chas - Charles River dummy variable (= 1 if tract bounds river; 0 otherwise).\n",
        "\n",
        "nox - nitrogen oxides concentration (parts per 10 million).\n",
        "\n",
        "rm - average number of rooms per dwelling.\n",
        "\n",
        "age - proportion of owner-occupied units built prior to 1940.\n",
        "\n",
        "dis - weighted mean of distances to five Boston employment centres.\n",
        "\n",
        "rad - index of accessibility to radial highways.\n",
        "\n",
        "tax - full-value property-tax rate per $10,000.\n",
        "\n",
        "ptratio - pupil-teacher ratio by town.\n",
        "\n",
        "lstat - lower status of the population (percent).\n",
        "\n",
        "medv - median value of owner-occupied homes in $1000s."
      ],
      "metadata": {
        "id": "IW6GAhO9t_vW"
      }
    },
    {
      "cell_type": "code",
      "source": [
        "data = pd.read_csv('boston_data.csv', index_col=0)"
      ],
      "metadata": {
        "id": "WR-drLUZt6qa"
      },
      "execution_count": null,
      "outputs": []
    },
    {
      "cell_type": "code",
      "source": [
        "data.head()"
      ],
      "metadata": {
        "colab": {
          "base_uri": "https://localhost:8080/",
          "height": 237
        },
        "id": "tY5HKVtkt6tW",
        "outputId": "91c5e516-f525-4b77-bde1-10ee9a3ce79c"
      },
      "execution_count": null,
      "outputs": [
        {
          "output_type": "execute_result",
          "data": {
            "text/plain": [
              "    indus  chas    nox     rm   age     dis  rad  tax  ptratio  lstat  medv\n",
              "ID                                                                         \n",
              "1    2.31     0  0.538  6.575  65.2  4.0900    1  296     15.3   4.98  24.0\n",
              "2    7.07     0  0.469  6.421  78.9  4.9671    2  242     17.8   9.14  21.6\n",
              "4    2.18     0  0.458  6.998  45.8  6.0622    3  222     18.7   2.94  33.4\n",
              "5    2.18     0  0.458  7.147  54.2  6.0622    3  222     18.7   5.33  36.2\n",
              "7    7.87     0  0.524  6.012  66.6  5.5605    5  311     15.2  12.43  22.9"
            ],
            "text/html": [
              "\n",
              "  <div id=\"df-e157a515-a06a-450c-a53b-7d50b01c5f0e\">\n",
              "    <div class=\"colab-df-container\">\n",
              "      <div>\n",
              "<style scoped>\n",
              "    .dataframe tbody tr th:only-of-type {\n",
              "        vertical-align: middle;\n",
              "    }\n",
              "\n",
              "    .dataframe tbody tr th {\n",
              "        vertical-align: top;\n",
              "    }\n",
              "\n",
              "    .dataframe thead th {\n",
              "        text-align: right;\n",
              "    }\n",
              "</style>\n",
              "<table border=\"1\" class=\"dataframe\">\n",
              "  <thead>\n",
              "    <tr style=\"text-align: right;\">\n",
              "      <th></th>\n",
              "      <th>indus</th>\n",
              "      <th>chas</th>\n",
              "      <th>nox</th>\n",
              "      <th>rm</th>\n",
              "      <th>age</th>\n",
              "      <th>dis</th>\n",
              "      <th>rad</th>\n",
              "      <th>tax</th>\n",
              "      <th>ptratio</th>\n",
              "      <th>lstat</th>\n",
              "      <th>medv</th>\n",
              "    </tr>\n",
              "    <tr>\n",
              "      <th>ID</th>\n",
              "      <th></th>\n",
              "      <th></th>\n",
              "      <th></th>\n",
              "      <th></th>\n",
              "      <th></th>\n",
              "      <th></th>\n",
              "      <th></th>\n",
              "      <th></th>\n",
              "      <th></th>\n",
              "      <th></th>\n",
              "      <th></th>\n",
              "    </tr>\n",
              "  </thead>\n",
              "  <tbody>\n",
              "    <tr>\n",
              "      <th>1</th>\n",
              "      <td>2.31</td>\n",
              "      <td>0</td>\n",
              "      <td>0.538</td>\n",
              "      <td>6.575</td>\n",
              "      <td>65.2</td>\n",
              "      <td>4.0900</td>\n",
              "      <td>1</td>\n",
              "      <td>296</td>\n",
              "      <td>15.3</td>\n",
              "      <td>4.98</td>\n",
              "      <td>24.0</td>\n",
              "    </tr>\n",
              "    <tr>\n",
              "      <th>2</th>\n",
              "      <td>7.07</td>\n",
              "      <td>0</td>\n",
              "      <td>0.469</td>\n",
              "      <td>6.421</td>\n",
              "      <td>78.9</td>\n",
              "      <td>4.9671</td>\n",
              "      <td>2</td>\n",
              "      <td>242</td>\n",
              "      <td>17.8</td>\n",
              "      <td>9.14</td>\n",
              "      <td>21.6</td>\n",
              "    </tr>\n",
              "    <tr>\n",
              "      <th>4</th>\n",
              "      <td>2.18</td>\n",
              "      <td>0</td>\n",
              "      <td>0.458</td>\n",
              "      <td>6.998</td>\n",
              "      <td>45.8</td>\n",
              "      <td>6.0622</td>\n",
              "      <td>3</td>\n",
              "      <td>222</td>\n",
              "      <td>18.7</td>\n",
              "      <td>2.94</td>\n",
              "      <td>33.4</td>\n",
              "    </tr>\n",
              "    <tr>\n",
              "      <th>5</th>\n",
              "      <td>2.18</td>\n",
              "      <td>0</td>\n",
              "      <td>0.458</td>\n",
              "      <td>7.147</td>\n",
              "      <td>54.2</td>\n",
              "      <td>6.0622</td>\n",
              "      <td>3</td>\n",
              "      <td>222</td>\n",
              "      <td>18.7</td>\n",
              "      <td>5.33</td>\n",
              "      <td>36.2</td>\n",
              "    </tr>\n",
              "    <tr>\n",
              "      <th>7</th>\n",
              "      <td>7.87</td>\n",
              "      <td>0</td>\n",
              "      <td>0.524</td>\n",
              "      <td>6.012</td>\n",
              "      <td>66.6</td>\n",
              "      <td>5.5605</td>\n",
              "      <td>5</td>\n",
              "      <td>311</td>\n",
              "      <td>15.2</td>\n",
              "      <td>12.43</td>\n",
              "      <td>22.9</td>\n",
              "    </tr>\n",
              "  </tbody>\n",
              "</table>\n",
              "</div>\n",
              "      <button class=\"colab-df-convert\" onclick=\"convertToInteractive('df-e157a515-a06a-450c-a53b-7d50b01c5f0e')\"\n",
              "              title=\"Convert this dataframe to an interactive table.\"\n",
              "              style=\"display:none;\">\n",
              "        \n",
              "  <svg xmlns=\"http://www.w3.org/2000/svg\" height=\"24px\"viewBox=\"0 0 24 24\"\n",
              "       width=\"24px\">\n",
              "    <path d=\"M0 0h24v24H0V0z\" fill=\"none\"/>\n",
              "    <path d=\"M18.56 5.44l.94 2.06.94-2.06 2.06-.94-2.06-.94-.94-2.06-.94 2.06-2.06.94zm-11 1L8.5 8.5l.94-2.06 2.06-.94-2.06-.94L8.5 2.5l-.94 2.06-2.06.94zm10 10l.94 2.06.94-2.06 2.06-.94-2.06-.94-.94-2.06-.94 2.06-2.06.94z\"/><path d=\"M17.41 7.96l-1.37-1.37c-.4-.4-.92-.59-1.43-.59-.52 0-1.04.2-1.43.59L10.3 9.45l-7.72 7.72c-.78.78-.78 2.05 0 2.83L4 21.41c.39.39.9.59 1.41.59.51 0 1.02-.2 1.41-.59l7.78-7.78 2.81-2.81c.8-.78.8-2.07 0-2.86zM5.41 20L4 18.59l7.72-7.72 1.47 1.35L5.41 20z\"/>\n",
              "  </svg>\n",
              "      </button>\n",
              "      \n",
              "  <style>\n",
              "    .colab-df-container {\n",
              "      display:flex;\n",
              "      flex-wrap:wrap;\n",
              "      gap: 12px;\n",
              "    }\n",
              "\n",
              "    .colab-df-convert {\n",
              "      background-color: #E8F0FE;\n",
              "      border: none;\n",
              "      border-radius: 50%;\n",
              "      cursor: pointer;\n",
              "      display: none;\n",
              "      fill: #1967D2;\n",
              "      height: 32px;\n",
              "      padding: 0 0 0 0;\n",
              "      width: 32px;\n",
              "    }\n",
              "\n",
              "    .colab-df-convert:hover {\n",
              "      background-color: #E2EBFA;\n",
              "      box-shadow: 0px 1px 2px rgba(60, 64, 67, 0.3), 0px 1px 3px 1px rgba(60, 64, 67, 0.15);\n",
              "      fill: #174EA6;\n",
              "    }\n",
              "\n",
              "    [theme=dark] .colab-df-convert {\n",
              "      background-color: #3B4455;\n",
              "      fill: #D2E3FC;\n",
              "    }\n",
              "\n",
              "    [theme=dark] .colab-df-convert:hover {\n",
              "      background-color: #434B5C;\n",
              "      box-shadow: 0px 1px 3px 1px rgba(0, 0, 0, 0.15);\n",
              "      filter: drop-shadow(0px 1px 2px rgba(0, 0, 0, 0.3));\n",
              "      fill: #FFFFFF;\n",
              "    }\n",
              "  </style>\n",
              "\n",
              "      <script>\n",
              "        const buttonEl =\n",
              "          document.querySelector('#df-e157a515-a06a-450c-a53b-7d50b01c5f0e button.colab-df-convert');\n",
              "        buttonEl.style.display =\n",
              "          google.colab.kernel.accessAllowed ? 'block' : 'none';\n",
              "\n",
              "        async function convertToInteractive(key) {\n",
              "          const element = document.querySelector('#df-e157a515-a06a-450c-a53b-7d50b01c5f0e');\n",
              "          const dataTable =\n",
              "            await google.colab.kernel.invokeFunction('convertToInteractive',\n",
              "                                                     [key], {});\n",
              "          if (!dataTable) return;\n",
              "\n",
              "          const docLinkHtml = 'Like what you see? Visit the ' +\n",
              "            '<a target=\"_blank\" href=https://colab.research.google.com/notebooks/data_table.ipynb>data table notebook</a>'\n",
              "            + ' to learn more about interactive tables.';\n",
              "          element.innerHTML = '';\n",
              "          dataTable['output_type'] = 'display_data';\n",
              "          await google.colab.output.renderOutput(dataTable, element);\n",
              "          const docLink = document.createElement('div');\n",
              "          docLink.innerHTML = docLinkHtml;\n",
              "          element.appendChild(docLink);\n",
              "        }\n",
              "      </script>\n",
              "    </div>\n",
              "  </div>\n",
              "  "
            ]
          },
          "metadata": {},
          "execution_count": 63
        }
      ]
    },
    {
      "cell_type": "code",
      "source": [
        "data.shape"
      ],
      "metadata": {
        "colab": {
          "base_uri": "https://localhost:8080/"
        },
        "id": "mMCkMLQit6wZ",
        "outputId": "eb9569b2-3347-43f4-c726-81a3fc9a78f5"
      },
      "execution_count": null,
      "outputs": [
        {
          "output_type": "execute_result",
          "data": {
            "text/plain": [
              "(333, 11)"
            ]
          },
          "metadata": {},
          "execution_count": 64
        }
      ]
    },
    {
      "cell_type": "code",
      "source": [
        "data.info()"
      ],
      "metadata": {
        "colab": {
          "base_uri": "https://localhost:8080/"
        },
        "id": "G8wOtgEJt6zU",
        "outputId": "6afc2b75-8fb9-4684-c3e9-0bc60ed82c7d"
      },
      "execution_count": null,
      "outputs": [
        {
          "output_type": "stream",
          "name": "stdout",
          "text": [
            "<class 'pandas.core.frame.DataFrame'>\n",
            "Int64Index: 333 entries, 1 to 506\n",
            "Data columns (total 11 columns):\n",
            " #   Column   Non-Null Count  Dtype  \n",
            "---  ------   --------------  -----  \n",
            " 0   indus    333 non-null    float64\n",
            " 1   chas     333 non-null    int64  \n",
            " 2   nox      333 non-null    float64\n",
            " 3   rm       333 non-null    float64\n",
            " 4   age      333 non-null    float64\n",
            " 5   dis      333 non-null    float64\n",
            " 6   rad      333 non-null    int64  \n",
            " 7   tax      333 non-null    int64  \n",
            " 8   ptratio  333 non-null    float64\n",
            " 9   lstat    333 non-null    float64\n",
            " 10  medv     333 non-null    float64\n",
            "dtypes: float64(8), int64(3)\n",
            "memory usage: 31.2 KB\n"
          ]
        }
      ]
    },
    {
      "cell_type": "code",
      "source": [
        "data.describe()"
      ],
      "metadata": {
        "colab": {
          "base_uri": "https://localhost:8080/",
          "height": 300
        },
        "id": "fazBvjxht62n",
        "outputId": "823568ab-427a-448e-c9b2-48b7bf12cce6"
      },
      "execution_count": null,
      "outputs": [
        {
          "output_type": "execute_result",
          "data": {
            "text/plain": [
              "            indus        chas         nox          rm         age         dis  \\\n",
              "count  333.000000  333.000000  333.000000  333.000000  333.000000  333.000000   \n",
              "mean    11.293483    0.060060    0.557144    6.265619   68.226426    3.709934   \n",
              "std      6.998123    0.237956    0.114955    0.703952   28.133344    1.981123   \n",
              "min      0.740000    0.000000    0.385000    3.561000    6.000000    1.129600   \n",
              "25%      5.130000    0.000000    0.453000    5.884000   45.400000    2.122400   \n",
              "50%      9.900000    0.000000    0.538000    6.202000   76.700000    3.092300   \n",
              "75%     18.100000    0.000000    0.631000    6.595000   93.800000    5.116700   \n",
              "max     27.740000    1.000000    0.871000    8.725000  100.000000   10.710300   \n",
              "\n",
              "              rad         tax     ptratio       lstat        medv  \n",
              "count  333.000000  333.000000  333.000000  333.000000  333.000000  \n",
              "mean     9.633634  409.279279   18.448048   12.515435   22.768769  \n",
              "std      8.742174  170.841988    2.151821    7.067781    9.173468  \n",
              "min      1.000000  188.000000   12.600000    1.730000    5.000000  \n",
              "25%      4.000000  279.000000   17.400000    7.180000   17.400000  \n",
              "50%      5.000000  330.000000   19.000000   10.970000   21.600000  \n",
              "75%     24.000000  666.000000   20.200000   16.420000   25.000000  \n",
              "max     24.000000  711.000000   21.200000   37.970000   50.000000  "
            ],
            "text/html": [
              "\n",
              "  <div id=\"df-7ed61416-b898-4b82-bbc4-1207e27055c1\">\n",
              "    <div class=\"colab-df-container\">\n",
              "      <div>\n",
              "<style scoped>\n",
              "    .dataframe tbody tr th:only-of-type {\n",
              "        vertical-align: middle;\n",
              "    }\n",
              "\n",
              "    .dataframe tbody tr th {\n",
              "        vertical-align: top;\n",
              "    }\n",
              "\n",
              "    .dataframe thead th {\n",
              "        text-align: right;\n",
              "    }\n",
              "</style>\n",
              "<table border=\"1\" class=\"dataframe\">\n",
              "  <thead>\n",
              "    <tr style=\"text-align: right;\">\n",
              "      <th></th>\n",
              "      <th>indus</th>\n",
              "      <th>chas</th>\n",
              "      <th>nox</th>\n",
              "      <th>rm</th>\n",
              "      <th>age</th>\n",
              "      <th>dis</th>\n",
              "      <th>rad</th>\n",
              "      <th>tax</th>\n",
              "      <th>ptratio</th>\n",
              "      <th>lstat</th>\n",
              "      <th>medv</th>\n",
              "    </tr>\n",
              "  </thead>\n",
              "  <tbody>\n",
              "    <tr>\n",
              "      <th>count</th>\n",
              "      <td>333.000000</td>\n",
              "      <td>333.000000</td>\n",
              "      <td>333.000000</td>\n",
              "      <td>333.000000</td>\n",
              "      <td>333.000000</td>\n",
              "      <td>333.000000</td>\n",
              "      <td>333.000000</td>\n",
              "      <td>333.000000</td>\n",
              "      <td>333.000000</td>\n",
              "      <td>333.000000</td>\n",
              "      <td>333.000000</td>\n",
              "    </tr>\n",
              "    <tr>\n",
              "      <th>mean</th>\n",
              "      <td>11.293483</td>\n",
              "      <td>0.060060</td>\n",
              "      <td>0.557144</td>\n",
              "      <td>6.265619</td>\n",
              "      <td>68.226426</td>\n",
              "      <td>3.709934</td>\n",
              "      <td>9.633634</td>\n",
              "      <td>409.279279</td>\n",
              "      <td>18.448048</td>\n",
              "      <td>12.515435</td>\n",
              "      <td>22.768769</td>\n",
              "    </tr>\n",
              "    <tr>\n",
              "      <th>std</th>\n",
              "      <td>6.998123</td>\n",
              "      <td>0.237956</td>\n",
              "      <td>0.114955</td>\n",
              "      <td>0.703952</td>\n",
              "      <td>28.133344</td>\n",
              "      <td>1.981123</td>\n",
              "      <td>8.742174</td>\n",
              "      <td>170.841988</td>\n",
              "      <td>2.151821</td>\n",
              "      <td>7.067781</td>\n",
              "      <td>9.173468</td>\n",
              "    </tr>\n",
              "    <tr>\n",
              "      <th>min</th>\n",
              "      <td>0.740000</td>\n",
              "      <td>0.000000</td>\n",
              "      <td>0.385000</td>\n",
              "      <td>3.561000</td>\n",
              "      <td>6.000000</td>\n",
              "      <td>1.129600</td>\n",
              "      <td>1.000000</td>\n",
              "      <td>188.000000</td>\n",
              "      <td>12.600000</td>\n",
              "      <td>1.730000</td>\n",
              "      <td>5.000000</td>\n",
              "    </tr>\n",
              "    <tr>\n",
              "      <th>25%</th>\n",
              "      <td>5.130000</td>\n",
              "      <td>0.000000</td>\n",
              "      <td>0.453000</td>\n",
              "      <td>5.884000</td>\n",
              "      <td>45.400000</td>\n",
              "      <td>2.122400</td>\n",
              "      <td>4.000000</td>\n",
              "      <td>279.000000</td>\n",
              "      <td>17.400000</td>\n",
              "      <td>7.180000</td>\n",
              "      <td>17.400000</td>\n",
              "    </tr>\n",
              "    <tr>\n",
              "      <th>50%</th>\n",
              "      <td>9.900000</td>\n",
              "      <td>0.000000</td>\n",
              "      <td>0.538000</td>\n",
              "      <td>6.202000</td>\n",
              "      <td>76.700000</td>\n",
              "      <td>3.092300</td>\n",
              "      <td>5.000000</td>\n",
              "      <td>330.000000</td>\n",
              "      <td>19.000000</td>\n",
              "      <td>10.970000</td>\n",
              "      <td>21.600000</td>\n",
              "    </tr>\n",
              "    <tr>\n",
              "      <th>75%</th>\n",
              "      <td>18.100000</td>\n",
              "      <td>0.000000</td>\n",
              "      <td>0.631000</td>\n",
              "      <td>6.595000</td>\n",
              "      <td>93.800000</td>\n",
              "      <td>5.116700</td>\n",
              "      <td>24.000000</td>\n",
              "      <td>666.000000</td>\n",
              "      <td>20.200000</td>\n",
              "      <td>16.420000</td>\n",
              "      <td>25.000000</td>\n",
              "    </tr>\n",
              "    <tr>\n",
              "      <th>max</th>\n",
              "      <td>27.740000</td>\n",
              "      <td>1.000000</td>\n",
              "      <td>0.871000</td>\n",
              "      <td>8.725000</td>\n",
              "      <td>100.000000</td>\n",
              "      <td>10.710300</td>\n",
              "      <td>24.000000</td>\n",
              "      <td>711.000000</td>\n",
              "      <td>21.200000</td>\n",
              "      <td>37.970000</td>\n",
              "      <td>50.000000</td>\n",
              "    </tr>\n",
              "  </tbody>\n",
              "</table>\n",
              "</div>\n",
              "      <button class=\"colab-df-convert\" onclick=\"convertToInteractive('df-7ed61416-b898-4b82-bbc4-1207e27055c1')\"\n",
              "              title=\"Convert this dataframe to an interactive table.\"\n",
              "              style=\"display:none;\">\n",
              "        \n",
              "  <svg xmlns=\"http://www.w3.org/2000/svg\" height=\"24px\"viewBox=\"0 0 24 24\"\n",
              "       width=\"24px\">\n",
              "    <path d=\"M0 0h24v24H0V0z\" fill=\"none\"/>\n",
              "    <path d=\"M18.56 5.44l.94 2.06.94-2.06 2.06-.94-2.06-.94-.94-2.06-.94 2.06-2.06.94zm-11 1L8.5 8.5l.94-2.06 2.06-.94-2.06-.94L8.5 2.5l-.94 2.06-2.06.94zm10 10l.94 2.06.94-2.06 2.06-.94-2.06-.94-.94-2.06-.94 2.06-2.06.94z\"/><path d=\"M17.41 7.96l-1.37-1.37c-.4-.4-.92-.59-1.43-.59-.52 0-1.04.2-1.43.59L10.3 9.45l-7.72 7.72c-.78.78-.78 2.05 0 2.83L4 21.41c.39.39.9.59 1.41.59.51 0 1.02-.2 1.41-.59l7.78-7.78 2.81-2.81c.8-.78.8-2.07 0-2.86zM5.41 20L4 18.59l7.72-7.72 1.47 1.35L5.41 20z\"/>\n",
              "  </svg>\n",
              "      </button>\n",
              "      \n",
              "  <style>\n",
              "    .colab-df-container {\n",
              "      display:flex;\n",
              "      flex-wrap:wrap;\n",
              "      gap: 12px;\n",
              "    }\n",
              "\n",
              "    .colab-df-convert {\n",
              "      background-color: #E8F0FE;\n",
              "      border: none;\n",
              "      border-radius: 50%;\n",
              "      cursor: pointer;\n",
              "      display: none;\n",
              "      fill: #1967D2;\n",
              "      height: 32px;\n",
              "      padding: 0 0 0 0;\n",
              "      width: 32px;\n",
              "    }\n",
              "\n",
              "    .colab-df-convert:hover {\n",
              "      background-color: #E2EBFA;\n",
              "      box-shadow: 0px 1px 2px rgba(60, 64, 67, 0.3), 0px 1px 3px 1px rgba(60, 64, 67, 0.15);\n",
              "      fill: #174EA6;\n",
              "    }\n",
              "\n",
              "    [theme=dark] .colab-df-convert {\n",
              "      background-color: #3B4455;\n",
              "      fill: #D2E3FC;\n",
              "    }\n",
              "\n",
              "    [theme=dark] .colab-df-convert:hover {\n",
              "      background-color: #434B5C;\n",
              "      box-shadow: 0px 1px 3px 1px rgba(0, 0, 0, 0.15);\n",
              "      filter: drop-shadow(0px 1px 2px rgba(0, 0, 0, 0.3));\n",
              "      fill: #FFFFFF;\n",
              "    }\n",
              "  </style>\n",
              "\n",
              "      <script>\n",
              "        const buttonEl =\n",
              "          document.querySelector('#df-7ed61416-b898-4b82-bbc4-1207e27055c1 button.colab-df-convert');\n",
              "        buttonEl.style.display =\n",
              "          google.colab.kernel.accessAllowed ? 'block' : 'none';\n",
              "\n",
              "        async function convertToInteractive(key) {\n",
              "          const element = document.querySelector('#df-7ed61416-b898-4b82-bbc4-1207e27055c1');\n",
              "          const dataTable =\n",
              "            await google.colab.kernel.invokeFunction('convertToInteractive',\n",
              "                                                     [key], {});\n",
              "          if (!dataTable) return;\n",
              "\n",
              "          const docLinkHtml = 'Like what you see? Visit the ' +\n",
              "            '<a target=\"_blank\" href=https://colab.research.google.com/notebooks/data_table.ipynb>data table notebook</a>'\n",
              "            + ' to learn more about interactive tables.';\n",
              "          element.innerHTML = '';\n",
              "          dataTable['output_type'] = 'display_data';\n",
              "          await google.colab.output.renderOutput(dataTable, element);\n",
              "          const docLink = document.createElement('div');\n",
              "          docLink.innerHTML = docLinkHtml;\n",
              "          element.appendChild(docLink);\n",
              "        }\n",
              "      </script>\n",
              "    </div>\n",
              "  </div>\n",
              "  "
            ]
          },
          "metadata": {},
          "execution_count": 66
        }
      ]
    },
    {
      "cell_type": "code",
      "source": [
        "sns.lmplot('rm', 'medv', data)\n",
        "\n",
        "plt.xlabel(\"number of rooms per dwelling.\")\n",
        "plt.ylabel(\"median value of owner-occupied homes in $1000s.\")"
      ],
      "metadata": {
        "colab": {
          "base_uri": "https://localhost:8080/",
          "height": 442
        },
        "id": "UAGx_xfjt656",
        "outputId": "a3b9b545-4dc5-47c2-db75-78c97e953154"
      },
      "execution_count": null,
      "outputs": [
        {
          "output_type": "stream",
          "name": "stderr",
          "text": [
            "/usr/local/lib/python3.7/dist-packages/seaborn/_decorators.py:43: FutureWarning: Pass the following variables as keyword args: x, y, data. From version 0.12, the only valid positional argument will be `data`, and passing other arguments without an explicit keyword will result in an error or misinterpretation.\n",
            "  FutureWarning\n"
          ]
        },
        {
          "output_type": "execute_result",
          "data": {
            "text/plain": [
              "Text(24.049999999999997, 0.5, 'median value of owner-occupied homes in $1000s.')"
            ]
          },
          "metadata": {},
          "execution_count": 67
        },
        {
          "output_type": "display_data",
          "data": {
            "text/plain": [
              "<Figure size 360x360 with 1 Axes>"
            ],
            "image/png": "[encoded data removed]"
          },
          "metadata": {
            "needs_background": "light"
          }
        }
      ]
    },
    {
      "cell_type": "code",
      "source": [
        "sns.lmplot('age', 'medv', data)\n",
        "\n",
        "plt.xlabel(\"age of the dwelling\")\n",
        "plt.ylabel(\"median value of owner-occupied homes in $1000s\")"
      ],
      "metadata": {
        "colab": {
          "base_uri": "https://localhost:8080/",
          "height": 442
        },
        "id": "C_sxb6jeuvfD",
        "outputId": "23f6f9db-5053-4a92-937c-695cda1fbac3"
      },
      "execution_count": null,
      "outputs": [
        {
          "output_type": "stream",
          "name": "stderr",
          "text": [
            "/usr/local/lib/python3.7/dist-packages/seaborn/_decorators.py:43: FutureWarning: Pass the following variables as keyword args: x, y, data. From version 0.12, the only valid positional argument will be `data`, and passing other arguments without an explicit keyword will result in an error or misinterpretation.\n",
            "  FutureWarning\n"
          ]
        },
        {
          "output_type": "execute_result",
          "data": {
            "text/plain": [
              "Text(24.049999999999997, 0.5, 'median value of owner-occupied homes in $1000s')"
            ]
          },
          "metadata": {},
          "execution_count": 68
        },
        {
          "output_type": "display_data",
          "data": {
            "text/plain": [
              "<Figure size 360x360 with 1 Axes>"
            ],
            "image/png": "[encoded data removed]"
          },
          "metadata": {
            "needs_background": "light"
          }
        }
      ]
    },
    {
      "cell_type": "code",
      "source": [
        "sns.lmplot('ptratio', 'medv', data)\n",
        "\n",
        "plt.xlabel(\"pupil-teacher ratio.\")\n",
        "plt.ylabel(\"median value of owner-occupied homes in $1000s.\")"
      ],
      "metadata": {
        "colab": {
          "base_uri": "https://localhost:8080/",
          "height": 442
        },
        "id": "KjYvuITEuvj_",
        "outputId": "5c69bce8-cd95-4581-9348-2e660353b510"
      },
      "execution_count": null,
      "outputs": [
        {
          "output_type": "stream",
          "name": "stderr",
          "text": [
            "/usr/local/lib/python3.7/dist-packages/seaborn/_decorators.py:43: FutureWarning: Pass the following variables as keyword args: x, y, data. From version 0.12, the only valid positional argument will be `data`, and passing other arguments without an explicit keyword will result in an error or misinterpretation.\n",
            "  FutureWarning\n"
          ]
        },
        {
          "output_type": "execute_result",
          "data": {
            "text/plain": [
              "Text(24.049999999999997, 0.5, 'median value of owner-occupied homes in $1000s.')"
            ]
          },
          "metadata": {},
          "execution_count": 69
        },
        {
          "output_type": "display_data",
          "data": {
            "text/plain": [
              "<Figure size 360x360 with 1 Axes>"
            ],
            "image/png": "[encoded data removed]"
          },
          "metadata": {
            "needs_background": "light"
          }
        }
      ]
    },
    {
      "cell_type": "code",
      "source": [
        "correlation = data.corr()\n",
        "\n",
        "correlation"
      ],
      "metadata": {
        "colab": {
          "base_uri": "https://localhost:8080/",
          "height": 394
        },
        "id": "n-ewMHBRuvnc",
        "outputId": "5ee65c2f-ecd6-4f45-f288-108360595db7"
      },
      "execution_count": null,
      "outputs": [
        {
          "output_type": "execute_result",
          "data": {
            "text/plain": [
              "            indus      chas       nox        rm       age       dis       rad  \\\n",
              "indus    1.000000  0.037496  0.750087 -0.440365  0.638378 -0.702327  0.569779   \n",
              "chas     0.037496  1.000000  0.080275  0.112251  0.068286 -0.081834  0.007714   \n",
              "nox      0.750087  0.080275  1.000000 -0.338515  0.736000 -0.769364  0.612180   \n",
              "rm      -0.440365  0.112251 -0.338515  1.000000 -0.248573  0.269191 -0.272783   \n",
              "age      0.638378  0.068286  0.736000 -0.248573  1.000000 -0.764208  0.447380   \n",
              "dis     -0.702327 -0.081834 -0.769364  0.269191 -0.764208  1.000000 -0.477610   \n",
              "rad      0.569779  0.007714  0.612180 -0.272783  0.447380 -0.477610  1.000000   \n",
              "tax      0.708313 -0.021826  0.670722 -0.356987  0.511893 -0.529539  0.903562   \n",
              "ptratio  0.391087 -0.125067  0.192513 -0.366927  0.259293 -0.231101  0.470849   \n",
              "lstat    0.614155 -0.050055  0.598874 -0.615747  0.588834 -0.505939  0.484568   \n",
              "medv    -0.473932  0.204390 -0.413054  0.689598 -0.358888  0.249422 -0.352251   \n",
              "\n",
              "              tax   ptratio     lstat      medv  \n",
              "indus    0.708313  0.391087  0.614155 -0.473932  \n",
              "chas    -0.021826 -0.125067 -0.050055  0.204390  \n",
              "nox      0.670722  0.192513  0.598874 -0.413054  \n",
              "rm      -0.356987 -0.366927 -0.615747  0.689598  \n",
              "age      0.511893  0.259293  0.588834 -0.358888  \n",
              "dis     -0.529539 -0.231101 -0.505939  0.249422  \n",
              "rad      0.903562  0.470849  0.484568 -0.352251  \n",
              "tax      1.000000  0.467437  0.544485 -0.448078  \n",
              "ptratio  0.467437  1.000000  0.374802 -0.481376  \n",
              "lstat    0.544485  0.374802  1.000000 -0.738600  \n",
              "medv    -0.448078 -0.481376 -0.738600  1.000000  "
            ],
            "text/html": [
              "\n",
              "  <div id=\"df-f82bdd75-0995-4014-a24c-e789cbf24ec7\">\n",
              "    <div class=\"colab-df-container\">\n",
              "      <div>\n",
              "<style scoped>\n",
              "    .dataframe tbody tr th:only-of-type {\n",
              "        vertical-align: middle;\n",
              "    }\n",
              "\n",
              "    .dataframe tbody tr th {\n",
              "        vertical-align: top;\n",
              "    }\n",
              "\n",
              "    .dataframe thead th {\n",
              "        text-align: right;\n",
              "    }\n",
              "</style>\n",
              "<table border=\"1\" class=\"dataframe\">\n",
              "  <thead>\n",
              "    <tr style=\"text-align: right;\">\n",
              "      <th></th>\n",
              "      <th>indus</th>\n",
              "      <th>chas</th>\n",
              "      <th>nox</th>\n",
              "      <th>rm</th>\n",
              "      <th>age</th>\n",
              "      <th>dis</th>\n",
              "      <th>rad</th>\n",
              "      <th>tax</th>\n",
              "      <th>ptratio</th>\n",
              "      <th>lstat</th>\n",
              "      <th>medv</th>\n",
              "    </tr>\n",
              "  </thead>\n",
              "  <tbody>\n",
              "    <tr>\n",
              "      <th>indus</th>\n",
              "      <td>1.000000</td>\n",
              "      <td>0.037496</td>\n",
              "      <td>0.750087</td>\n",
              "      <td>-0.440365</td>\n",
              "      <td>0.638378</td>\n",
              "      <td>-0.702327</td>\n",
              "      <td>0.569779</td>\n",
              "      <td>0.708313</td>\n",
              "      <td>0.391087</td>\n",
              "      <td>0.614155</td>\n",
              "      <td>-0.473932</td>\n",
              "    </tr>\n",
              "    <tr>\n",
              "      <th>chas</th>\n",
              "      <td>0.037496</td>\n",
              "      <td>1.000000</td>\n",
              "      <td>0.080275</td>\n",
              "      <td>0.112251</td>\n",
              "      <td>0.068286</td>\n",
              "      <td>-0.081834</td>\n",
              "      <td>0.007714</td>\n",
              "      <td>-0.021826</td>\n",
              "      <td>-0.125067</td>\n",
              "      <td>-0.050055</td>\n",
              "      <td>0.204390</td>\n",
              "    </tr>\n",
              "    <tr>\n",
              "      <th>nox</th>\n",
              "      <td>0.750087</td>\n",
              "      <td>0.080275</td>\n",
              "      <td>1.000000</td>\n",
              "      <td>-0.338515</td>\n",
              "      <td>0.736000</td>\n",
              "      <td>-0.769364</td>\n",
              "      <td>0.612180</td>\n",
              "      <td>0.670722</td>\n",
              "      <td>0.192513</td>\n",
              "      <td>0.598874</td>\n",
              "      <td>-0.413054</td>\n",
              "    </tr>\n",
              "    <tr>\n",
              "      <th>rm</th>\n",
              "      <td>-0.440365</td>\n",
              "      <td>0.112251</td>\n",
              "      <td>-0.338515</td>\n",
              "      <td>1.000000</td>\n",
              "      <td>-0.248573</td>\n",
              "      <td>0.269191</td>\n",
              "      <td>-0.272783</td>\n",
              "      <td>-0.356987</td>\n",
              "      <td>-0.366927</td>\n",
              "      <td>-0.615747</td>\n",
              "      <td>0.689598</td>\n",
              "    </tr>\n",
              "    <tr>\n",
              "      <th>age</th>\n",
              "      <td>0.638378</td>\n",
              "      <td>0.068286</td>\n",
              "      <td>0.736000</td>\n",
              "      <td>-0.248573</td>\n",
              "      <td>1.000000</td>\n",
              "      <td>-0.764208</td>\n",
              "      <td>0.447380</td>\n",
              "      <td>0.511893</td>\n",
              "      <td>0.259293</td>\n",
              "      <td>0.588834</td>\n",
              "      <td>-0.358888</td>\n",
              "    </tr>\n",
              "    <tr>\n",
              "      <th>dis</th>\n",
              "      <td>-0.702327</td>\n",
              "      <td>-0.081834</td>\n",
              "      <td>-0.769364</td>\n",
              "      <td>0.269191</td>\n",
              "      <td>-0.764208</td>\n",
              "      <td>1.000000</td>\n",
              "      <td>-0.477610</td>\n",
              "      <td>-0.529539</td>\n",
              "      <td>-0.231101</td>\n",
              "      <td>-0.505939</td>\n",
              "      <td>0.249422</td>\n",
              "    </tr>\n",
              "    <tr>\n",
              "      <th>rad</th>\n",
              "      <td>0.569779</td>\n",
              "      <td>0.007714</td>\n",
              "      <td>0.612180</td>\n",
              "      <td>-0.272783</td>\n",
              "      <td>0.447380</td>\n",
              "      <td>-0.477610</td>\n",
              "      <td>1.000000</td>\n",
              "      <td>0.903562</td>\n",
              "      <td>0.470849</td>\n",
              "      <td>0.484568</td>\n",
              "      <td>-0.352251</td>\n",
              "    </tr>\n",
              "    <tr>\n",
              "      <th>tax</th>\n",
              "      <td>0.708313</td>\n",
              "      <td>-0.021826</td>\n",
              "      <td>0.670722</td>\n",
              "      <td>-0.356987</td>\n",
              "      <td>0.511893</td>\n",
              "      <td>-0.529539</td>\n",
              "      <td>0.903562</td>\n",
              "      <td>1.000000</td>\n",
              "      <td>0.467437</td>\n",
              "      <td>0.544485</td>\n",
              "      <td>-0.448078</td>\n",
              "    </tr>\n",
              "    <tr>\n",
              "      <th>ptratio</th>\n",
              "      <td>0.391087</td>\n",
              "      <td>-0.125067</td>\n",
              "      <td>0.192513</td>\n",
              "      <td>-0.366927</td>\n",
              "      <td>0.259293</td>\n",
              "      <td>-0.231101</td>\n",
              "      <td>0.470849</td>\n",
              "      <td>0.467437</td>\n",
              "      <td>1.000000</td>\n",
              "      <td>0.374802</td>\n",
              "      <td>-0.481376</td>\n",
              "    </tr>\n",
              "    <tr>\n",
              "      <th>lstat</th>\n",
              "      <td>0.614155</td>\n",
              "      <td>-0.050055</td>\n",
              "      <td>0.598874</td>\n",
              "      <td>-0.615747</td>\n",
              "      <td>0.588834</td>\n",
              "      <td>-0.505939</td>\n",
              "      <td>0.484568</td>\n",
              "      <td>0.544485</td>\n",
              "      <td>0.374802</td>\n",
              "      <td>1.000000</td>\n",
              "      <td>-0.738600</td>\n",
              "    </tr>\n",
              "    <tr>\n",
              "      <th>medv</th>\n",
              "      <td>-0.473932</td>\n",
              "      <td>0.204390</td>\n",
              "      <td>-0.413054</td>\n",
              "      <td>0.689598</td>\n",
              "      <td>-0.358888</td>\n",
              "      <td>0.249422</td>\n",
              "      <td>-0.352251</td>\n",
              "      <td>-0.448078</td>\n",
              "      <td>-0.481376</td>\n",
              "      <td>-0.738600</td>\n",
              "      <td>1.000000</td>\n",
              "    </tr>\n",
              "  </tbody>\n",
              "</table>\n",
              "</div>\n",
              "      <button class=\"colab-df-convert\" onclick=\"convertToInteractive('df-f82bdd75-0995-4014-a24c-e789cbf24ec7')\"\n",
              "              title=\"Convert this dataframe to an interactive table.\"\n",
              "              style=\"display:none;\">\n",
              "        \n",
              "  <svg xmlns=\"http://www.w3.org/2000/svg\" height=\"24px\"viewBox=\"0 0 24 24\"\n",
              "       width=\"24px\">\n",
              "    <path d=\"M0 0h24v24H0V0z\" fill=\"none\"/>\n",
              "    <path d=\"M18.56 5.44l.94 2.06.94-2.06 2.06-.94-2.06-.94-.94-2.06-.94 2.06-2.06.94zm-11 1L8.5 8.5l.94-2.06 2.06-.94-2.06-.94L8.5 2.5l-.94 2.06-2.06.94zm10 10l.94 2.06.94-2.06 2.06-.94-2.06-.94-.94-2.06-.94 2.06-2.06.94z\"/><path d=\"M17.41 7.96l-1.37-1.37c-.4-.4-.92-.59-1.43-.59-.52 0-1.04.2-1.43.59L10.3 9.45l-7.72 7.72c-.78.78-.78 2.05 0 2.83L4 21.41c.39.39.9.59 1.41.59.51 0 1.02-.2 1.41-.59l7.78-7.78 2.81-2.81c.8-.78.8-2.07 0-2.86zM5.41 20L4 18.59l7.72-7.72 1.47 1.35L5.41 20z\"/>\n",
              "  </svg>\n",
              "      </button>\n",
              "      \n",
              "  <style>\n",
              "    .colab-df-container {\n",
              "      display:flex;\n",
              "      flex-wrap:wrap;\n",
              "      gap: 12px;\n",
              "    }\n",
              "\n",
              "    .colab-df-convert {\n",
              "      background-color: #E8F0FE;\n",
              "      border: none;\n",
              "      border-radius: 50%;\n",
              "      cursor: pointer;\n",
              "      display: none;\n",
              "      fill: #1967D2;\n",
              "      height: 32px;\n",
              "      padding: 0 0 0 0;\n",
              "      width: 32px;\n",
              "    }\n",
              "\n",
              "    .colab-df-convert:hover {\n",
              "      background-color: #E2EBFA;\n",
              "      box-shadow: 0px 1px 2px rgba(60, 64, 67, 0.3), 0px 1px 3px 1px rgba(60, 64, 67, 0.15);\n",
              "      fill: #174EA6;\n",
              "    }\n",
              "\n",
              "    [theme=dark] .colab-df-convert {\n",
              "      background-color: #3B4455;\n",
              "      fill: #D2E3FC;\n",
              "    }\n",
              "\n",
              "    [theme=dark] .colab-df-convert:hover {\n",
              "      background-color: #434B5C;\n",
              "      box-shadow: 0px 1px 3px 1px rgba(0, 0, 0, 0.15);\n",
              "      filter: drop-shadow(0px 1px 2px rgba(0, 0, 0, 0.3));\n",
              "      fill: #FFFFFF;\n",
              "    }\n",
              "  </style>\n",
              "\n",
              "      <script>\n",
              "        const buttonEl =\n",
              "          document.querySelector('#df-f82bdd75-0995-4014-a24c-e789cbf24ec7 button.colab-df-convert');\n",
              "        buttonEl.style.display =\n",
              "          google.colab.kernel.accessAllowed ? 'block' : 'none';\n",
              "\n",
              "        async function convertToInteractive(key) {\n",
              "          const element = document.querySelector('#df-f82bdd75-0995-4014-a24c-e789cbf24ec7');\n",
              "          const dataTable =\n",
              "            await google.colab.kernel.invokeFunction('convertToInteractive',\n",
              "                                                     [key], {});\n",
              "          if (!dataTable) return;\n",
              "\n",
              "          const docLinkHtml = 'Like what you see? Visit the ' +\n",
              "            '<a target=\"_blank\" href=https://colab.research.google.com/notebooks/data_table.ipynb>data table notebook</a>'\n",
              "            + ' to learn more about interactive tables.';\n",
              "          element.innerHTML = '';\n",
              "          dataTable['output_type'] = 'display_data';\n",
              "          await google.colab.output.renderOutput(dataTable, element);\n",
              "          const docLink = document.createElement('div');\n",
              "          docLink.innerHTML = docLinkHtml;\n",
              "          element.appendChild(docLink);\n",
              "        }\n",
              "      </script>\n",
              "    </div>\n",
              "  </div>\n",
              "  "
            ]
          },
          "metadata": {},
          "execution_count": 70
        }
      ]
    },
    {
      "cell_type": "code",
      "source": [
        "plt.subplots(figsize=(10, 8))\n",
        "sns.heatmap(correlation, annot=True)\n",
        "\n",
        "plt.show()"
      ],
      "metadata": {
        "colab": {
          "base_uri": "https://localhost:8080/",
          "height": 487
        },
        "id": "Mfb0P5KqvI6z",
        "outputId": "6d8356bf-dca0-4a8a-8b4e-b2c4fc135a02"
      },
      "execution_count": null,
      "outputs": [
        {
          "output_type": "display_data",
          "data": {
            "text/plain": [
              "<Figure size 720x576 with 2 Axes>"
            ],
            "image/png": "[encoded data removed]"
          },
          "metadata": {
            "needs_background": "light"
          }
        }
      ]
    },
    {
      "cell_type": "markdown",
      "source": [
        "Machine Learning Linear Regression"
      ],
      "metadata": {
        "id": "UgXBti-4xY7f"
      }
    },
    {
      "cell_type": "code",
      "source": [
        "from sklearn.linear_model import LinearRegression\n",
        "from sklearn.model_selection import train_test_split"
      ],
      "metadata": {
        "id": "k-0nCHehvI-E"
      },
      "execution_count": null,
      "outputs": []
    },
    {
      "cell_type": "code",
      "source": [
        "X = data.drop('medv', axis=1)\n",
        "Y = data['medv']\n",
        "\n",
        "x_train, x_test, y_train, y_test = train_test_split(X, Y, test_size = 0.2, random_state = 0)"
      ],
      "metadata": {
        "id": "jUX6rBSQxRcA"
      },
      "execution_count": null,
      "outputs": []
    },
    {
      "cell_type": "code",
      "source": [
        "x_train.shape, y_train.shape"
      ],
      "metadata": {
        "colab": {
          "base_uri": "https://localhost:8080/"
        },
        "id": "MB_afBV4xRey",
        "outputId": "68a95f29-6e61-47c3-d63b-fe3b98e904f1"
      },
      "execution_count": null,
      "outputs": [
        {
          "output_type": "execute_result",
          "data": {
            "text/plain": [
              "((266, 10), (266,))"
            ]
          },
          "metadata": {},
          "execution_count": 74
        }
      ]
    },
    {
      "cell_type": "code",
      "source": [
        "linear_regression = LinearRegression()\n",
        "\n",
        "linear_regression.fit(x_train, y_train)"
      ],
      "metadata": {
        "colab": {
          "base_uri": "https://localhost:8080/"
        },
        "id": "eRGP99I2xRhR",
        "outputId": "cd888c3b-e76b-4a89-dacd-2d8903069baf"
      },
      "execution_count": null,
      "outputs": [
        {
          "output_type": "execute_result",
          "data": {
            "text/plain": [
              "LinearRegression()"
            ]
          },
          "metadata": {},
          "execution_count": 75
        }
      ]
    },
    {
      "cell_type": "code",
      "source": [
        "y_pred = linear_regression.predict(x_test)\n",
        "\n",
        "y_pred"
      ],
      "metadata": {
        "colab": {
          "base_uri": "https://localhost:8080/"
        },
        "id": "Zs0cBonnxRjr",
        "outputId": "26c969ff-3552-4ab4-f094-84afff6706c3"
      },
      "execution_count": null,
      "outputs": [
        {
          "output_type": "execute_result",
          "data": {
            "text/plain": [
              "array([25.28659457, 28.57303764, 15.80275488, 12.97116825, 22.44697113,\n",
              "       25.84170951, 27.20057539, 18.91085253, 26.19709511, 20.28276254,\n",
              "       17.05969415, 25.26024706, 30.80682063, 37.12729863, 15.21833837,\n",
              "       33.18291063, 22.39997261, 25.74162379, 25.0195504 , 23.98978558,\n",
              "       19.38274011, 19.46275505, 19.28853185,  5.01746847, 15.82210828,\n",
              "       22.75937428, 26.96913154, 38.0985833 , 24.05918381, 25.00816864,\n",
              "       13.63516153, 34.8525424 , 35.85423056, 20.97640409, 23.95028738,\n",
              "       12.39041715, 24.7975901 ,  7.0509203 , 20.81358851, 27.3221854 ,\n",
              "       20.62258606, 26.08272627, 26.35831448, 20.23324227, 21.32142227,\n",
              "       29.04746247, 26.02230689, 29.28581985, 22.02729511, 16.98962646,\n",
              "       38.41999055, 23.37075991, 22.82358094, 17.87904935, 26.59608259,\n",
              "       21.86379968, 15.70849358, 17.85231653, 30.24900233, 28.29020911,\n",
              "       31.41839805, 43.12399696, 23.28794298, 17.72371626, 15.27274181,\n",
              "       25.61612834, 25.90338823])"
            ]
          },
          "metadata": {},
          "execution_count": 76
        }
      ]
    },
    {
      "cell_type": "markdown",
      "source": [
        "Table for actual and predicted values"
      ],
      "metadata": {
        "id": "HCCmwPK2x1zW"
      }
    },
    {
      "cell_type": "code",
      "source": [
        "df_y = pd.DataFrame({'y_test' : y_test, 'y_pred' : y_pred})\n",
        "\n",
        "df_y.sample(10)"
      ],
      "metadata": {
        "colab": {
          "base_uri": "https://localhost:8080/",
          "height": 394
        },
        "id": "EBPo2uDLvJA2",
        "outputId": "1566bbf1-7dd2-462d-d229-a6f3ee360219"
      },
      "execution_count": null,
      "outputs": [
        {
          "output_type": "execute_result",
          "data": {
            "text/plain": [
              "     y_test     y_pred\n",
              "ID                    \n",
              "204    48.5  38.098583\n",
              "88     22.2  26.596083\n",
              "81     28.0  28.573038\n",
              "209    24.4  25.616128\n",
              "177    23.2  25.741624\n",
              "137    17.4  15.708494\n",
              "325    25.0  26.197095\n",
              "475    13.8  17.059694\n",
              "388     7.4   5.017468\n",
              "143    13.4  13.635162"
            ],
            "text/html": [
              "\n",
              "  <div id=\"df-fa148226-0103-4bab-8542-bffd4ffea890\">\n",
              "    <div class=\"colab-df-container\">\n",
              "      <div>\n",
              "<style scoped>\n",
              "    .dataframe tbody tr th:only-of-type {\n",
              "        vertical-align: middle;\n",
              "    }\n",
              "\n",
              "    .dataframe tbody tr th {\n",
              "        vertical-align: top;\n",
              "    }\n",
              "\n",
              "    .dataframe thead th {\n",
              "        text-align: right;\n",
              "    }\n",
              "</style>\n",
              "<table border=\"1\" class=\"dataframe\">\n",
              "  <thead>\n",
              "    <tr style=\"text-align: right;\">\n",
              "      <th></th>\n",
              "      <th>y_test</th>\n",
              "      <th>y_pred</th>\n",
              "    </tr>\n",
              "    <tr>\n",
              "      <th>ID</th>\n",
              "      <th></th>\n",
              "      <th></th>\n",
              "    </tr>\n",
              "  </thead>\n",
              "  <tbody>\n",
              "    <tr>\n",
              "      <th>204</th>\n",
              "      <td>48.5</td>\n",
              "      <td>38.098583</td>\n",
              "    </tr>\n",
              "    <tr>\n",
              "      <th>88</th>\n",
              "      <td>22.2</td>\n",
              "      <td>26.596083</td>\n",
              "    </tr>\n",
              "    <tr>\n",
              "      <th>81</th>\n",
              "      <td>28.0</td>\n",
              "      <td>28.573038</td>\n",
              "    </tr>\n",
              "    <tr>\n",
              "      <th>209</th>\n",
              "      <td>24.4</td>\n",
              "      <td>25.616128</td>\n",
              "    </tr>\n",
              "    <tr>\n",
              "      <th>177</th>\n",
              "      <td>23.2</td>\n",
              "      <td>25.741624</td>\n",
              "    </tr>\n",
              "    <tr>\n",
              "      <th>137</th>\n",
              "      <td>17.4</td>\n",
              "      <td>15.708494</td>\n",
              "    </tr>\n",
              "    <tr>\n",
              "      <th>325</th>\n",
              "      <td>25.0</td>\n",
              "      <td>26.197095</td>\n",
              "    </tr>\n",
              "    <tr>\n",
              "      <th>475</th>\n",
              "      <td>13.8</td>\n",
              "      <td>17.059694</td>\n",
              "    </tr>\n",
              "    <tr>\n",
              "      <th>388</th>\n",
              "      <td>7.4</td>\n",
              "      <td>5.017468</td>\n",
              "    </tr>\n",
              "    <tr>\n",
              "      <th>143</th>\n",
              "      <td>13.4</td>\n",
              "      <td>13.635162</td>\n",
              "    </tr>\n",
              "  </tbody>\n",
              "</table>\n",
              "</div>\n",
              "      <button class=\"colab-df-convert\" onclick=\"convertToInteractive('df-fa148226-0103-4bab-8542-bffd4ffea890')\"\n",
              "              title=\"Convert this dataframe to an interactive table.\"\n",
              "              style=\"display:none;\">\n",
              "        \n",
              "  <svg xmlns=\"http://www.w3.org/2000/svg\" height=\"24px\"viewBox=\"0 0 24 24\"\n",
              "       width=\"24px\">\n",
              "    <path d=\"M0 0h24v24H0V0z\" fill=\"none\"/>\n",
              "    <path d=\"M18.56 5.44l.94 2.06.94-2.06 2.06-.94-2.06-.94-.94-2.06-.94 2.06-2.06.94zm-11 1L8.5 8.5l.94-2.06 2.06-.94-2.06-.94L8.5 2.5l-.94 2.06-2.06.94zm10 10l.94 2.06.94-2.06 2.06-.94-2.06-.94-.94-2.06-.94 2.06-2.06.94z\"/><path d=\"M17.41 7.96l-1.37-1.37c-.4-.4-.92-.59-1.43-.59-.52 0-1.04.2-1.43.59L10.3 9.45l-7.72 7.72c-.78.78-.78 2.05 0 2.83L4 21.41c.39.39.9.59 1.41.59.51 0 1.02-.2 1.41-.59l7.78-7.78 2.81-2.81c.8-.78.8-2.07 0-2.86zM5.41 20L4 18.59l7.72-7.72 1.47 1.35L5.41 20z\"/>\n",
              "  </svg>\n",
              "      </button>\n",
              "      \n",
              "  <style>\n",
              "    .colab-df-container {\n",
              "      display:flex;\n",
              "      flex-wrap:wrap;\n",
              "      gap: 12px;\n",
              "    }\n",
              "\n",
              "    .colab-df-convert {\n",
              "      background-color: #E8F0FE;\n",
              "      border: none;\n",
              "      border-radius: 50%;\n",
              "      cursor: pointer;\n",
              "      display: none;\n",
              "      fill: #1967D2;\n",
              "      height: 32px;\n",
              "      padding: 0 0 0 0;\n",
              "      width: 32px;\n",
              "    }\n",
              "\n",
              "    .colab-df-convert:hover {\n",
              "      background-color: #E2EBFA;\n",
              "      box-shadow: 0px 1px 2px rgba(60, 64, 67, 0.3), 0px 1px 3px 1px rgba(60, 64, 67, 0.15);\n",
              "      fill: #174EA6;\n",
              "    }\n",
              "\n",
              "    [theme=dark] .colab-df-convert {\n",
              "      background-color: #3B4455;\n",
              "      fill: #D2E3FC;\n",
              "    }\n",
              "\n",
              "    [theme=dark] .colab-df-convert:hover {\n",
              "      background-color: #434B5C;\n",
              "      box-shadow: 0px 1px 3px 1px rgba(0, 0, 0, 0.15);\n",
              "      filter: drop-shadow(0px 1px 2px rgba(0, 0, 0, 0.3));\n",
              "      fill: #FFFFFF;\n",
              "    }\n",
              "  </style>\n",
              "\n",
              "      <script>\n",
              "        const buttonEl =\n",
              "          document.querySelector('#df-fa148226-0103-4bab-8542-bffd4ffea890 button.colab-df-convert');\n",
              "        buttonEl.style.display =\n",
              "          google.colab.kernel.accessAllowed ? 'block' : 'none';\n",
              "\n",
              "        async function convertToInteractive(key) {\n",
              "          const element = document.querySelector('#df-fa148226-0103-4bab-8542-bffd4ffea890');\n",
              "          const dataTable =\n",
              "            await google.colab.kernel.invokeFunction('convertToInteractive',\n",
              "                                                     [key], {});\n",
              "          if (!dataTable) return;\n",
              "\n",
              "          const docLinkHtml = 'Like what you see? Visit the ' +\n",
              "            '<a target=\"_blank\" href=https://colab.research.google.com/notebooks/data_table.ipynb>data table notebook</a>'\n",
              "            + ' to learn more about interactive tables.';\n",
              "          element.innerHTML = '';\n",
              "          dataTable['output_type'] = 'display_data';\n",
              "          await google.colab.output.renderOutput(dataTable, element);\n",
              "          const docLink = document.createElement('div');\n",
              "          docLink.innerHTML = docLinkHtml;\n",
              "          element.appendChild(docLink);\n",
              "        }\n",
              "      </script>\n",
              "    </div>\n",
              "  </div>\n",
              "  "
            ]
          },
          "metadata": {},
          "execution_count": 77
        }
      ]
    },
    {
      "cell_type": "code",
      "source": [
        "print(\"Training score : \", linear_regression.score(x_train, y_train))"
      ],
      "metadata": {
        "colab": {
          "base_uri": "https://localhost:8080/"
        },
        "id": "2k6iwEcux4N9",
        "outputId": "7052f15f-3759-4da8-83f7-c325288219d4"
      },
      "execution_count": null,
      "outputs": [
        {
          "output_type": "stream",
          "name": "stdout",
          "text": [
            "Training score :  0.7165238743004549\n"
          ]
        }
      ]
    },
    {
      "cell_type": "code",
      "source": [
        "from sklearn.metrics import r2_score\n",
        "\n",
        "score = r2_score(y_test, y_pred)\n",
        "\n",
        "print(\"Testing score : \", score)"
      ],
      "metadata": {
        "colab": {
          "base_uri": "https://localhost:8080/"
        },
        "id": "v4JihkBbx4Qg",
        "outputId": "16b2e2f2-ba0f-4544-fe47-f4507a2d0636"
      },
      "execution_count": null,
      "outputs": [
        {
          "output_type": "stream",
          "name": "stdout",
          "text": [
            "Testing score :  0.6940069129106323\n"
          ]
        }
      ]
    },
    {
      "cell_type": "markdown",
      "source": [
        "Graph between predicted and actual values"
      ],
      "metadata": {
        "id": "zz2dlV-yyCO2"
      }
    },
    {
      "cell_type": "code",
      "source": [
        "plt.subplots(figsize=(10,8))\n",
        "\n",
        "plt.plot(y_pred, label=\"Prediction\")\n",
        "plt.plot(y_test.values, label=\"Actual\")\n",
        "\n",
        "plt.legend()\n",
        "\n",
        "plt.show()"
      ],
      "metadata": {
        "colab": {
          "base_uri": "https://localhost:8080/",
          "height": 483
        },
        "id": "8CWprVrkx4TJ",
        "outputId": "e17e6fa8-905b-46d4-8d5c-58c887760e02"
      },
      "execution_count": null,
      "outputs": [
        {
          "output_type": "display_data",
          "data": {
            "text/plain": [
              "<Figure size 720x576 with 1 Axes>"
            ],
            "image/png": "[encoded data removed]"
          },
          "metadata": {
            "needs_background": "light"
          }
        }
      ]
    },
    {
      "cell_type": "markdown",
      "source": [
        "Ordinary Least Squares -- non ML linear regression. Analytical"
      ],
      "metadata": {
        "id": "RjqGUrW9yGeb"
      }
    },
    {
      "cell_type": "code",
      "source": [
        "import numpy as np\n",
        "import statsmodels.api as sm"
      ],
      "metadata": {
        "colab": {
          "base_uri": "https://localhost:8080/"
        },
        "id": "xPAdVhtfyEhi",
        "outputId": "aad7ccbe-1b1c-401b-afee-0c4b564e0ab0"
      },
      "execution_count": null,
      "outputs": [
        {
          "output_type": "stream",
          "name": "stderr",
          "text": [
            "/usr/local/lib/python3.7/dist-packages/statsmodels/tools/_testing.py:19: FutureWarning: pandas.util.testing is deprecated. Use the functions in the public API at pandas.testing instead.\n",
            "  import pandas.util.testing as tm\n"
          ]
        }
      ]
    },
    {
      "cell_type": "code",
      "source": [
        "X = np.array(X)\n",
        "\n",
        "X[:5]"
      ],
      "metadata": {
        "colab": {
          "base_uri": "https://localhost:8080/"
        },
        "id": "OR5YUdGkyOyd",
        "outputId": "785b13c7-0e96-46e3-d614-341d2308a836"
      },
      "execution_count": null,
      "outputs": [
        {
          "output_type": "execute_result",
          "data": {
            "text/plain": [
              "array([[  2.31  ,   0.    ,   0.538 ,   6.575 ,  65.2   ,   4.09  ,\n",
              "          1.    , 296.    ,  15.3   ,   4.98  ],\n",
              "       [  7.07  ,   0.    ,   0.469 ,   6.421 ,  78.9   ,   4.9671,\n",
              "          2.    , 242.    ,  17.8   ,   9.14  ],\n",
              "       [  2.18  ,   0.    ,   0.458 ,   6.998 ,  45.8   ,   6.0622,\n",
              "          3.    , 222.    ,  18.7   ,   2.94  ],\n",
              "       [  2.18  ,   0.    ,   0.458 ,   7.147 ,  54.2   ,   6.0622,\n",
              "          3.    , 222.    ,  18.7   ,   5.33  ],\n",
              "       [  7.87  ,   0.    ,   0.524 ,   6.012 ,  66.6   ,   5.5605,\n",
              "          5.    , 311.    ,  15.2   ,  12.43  ]])"
            ]
          },
          "metadata": {},
          "execution_count": 82
        }
      ]
    },
    {
      "cell_type": "code",
      "source": [
        "X = sm.add_constant(X)\n",
        "\n",
        "X[:5]"
      ],
      "metadata": {
        "colab": {
          "base_uri": "https://localhost:8080/"
        },
        "id": "417JZ9ASyO1Z",
        "outputId": "76934703-e6dc-43dd-a063-16697ee2d4c3"
      },
      "execution_count": null,
      "outputs": [
        {
          "output_type": "execute_result",
          "data": {
            "text/plain": [
              "array([[  1.    ,   2.31  ,   0.    ,   0.538 ,   6.575 ,  65.2   ,\n",
              "          4.09  ,   1.    , 296.    ,  15.3   ,   4.98  ],\n",
              "       [  1.    ,   7.07  ,   0.    ,   0.469 ,   6.421 ,  78.9   ,\n",
              "          4.9671,   2.    , 242.    ,  17.8   ,   9.14  ],\n",
              "       [  1.    ,   2.18  ,   0.    ,   0.458 ,   6.998 ,  45.8   ,\n",
              "          6.0622,   3.    , 222.    ,  18.7   ,   2.94  ],\n",
              "       [  1.    ,   2.18  ,   0.    ,   0.458 ,   7.147 ,  54.2   ,\n",
              "          6.0622,   3.    , 222.    ,  18.7   ,   5.33  ],\n",
              "       [  1.    ,   7.87  ,   0.    ,   0.524 ,   6.012 ,  66.6   ,\n",
              "          5.5605,   5.    , 311.    ,  15.2   ,  12.43  ]])"
            ]
          },
          "metadata": {},
          "execution_count": 83
        }
      ]
    },
    {
      "cell_type": "code",
      "source": [
        "model = sm.OLS(Y, X).fit()\n",
        "\n",
        "model.summary()"
      ],
      "metadata": {
        "colab": {
          "base_uri": "https://localhost:8080/",
          "height": 678
        },
        "id": "fySQVplDyEkZ",
        "outputId": "e538ffd6-b0f1-40b9-8306-8cc80153d560"
      },
      "execution_count": null,
      "outputs": [
        {
          "output_type": "execute_result",
          "data": {
            "text/plain": [
              "<class 'statsmodels.iolib.summary.Summary'>\n",
              "\"\"\"\n",
              "                            OLS Regression Results                            \n",
              "==============================================================================\n",
              "Dep. Variable:                   medv   R-squared:                       0.715\n",
              "Model:                            OLS   Adj. R-squared:                  0.706\n",
              "Method:                 Least Squares   F-statistic:                     80.83\n",
              "Date:                Mon, 25 Jul 2022   Prob (F-statistic):           1.25e-81\n",
              "Time:                        19:16:11   Log-Likelihood:                -1001.0\n",
              "No. Observations:                 333   AIC:                             2024.\n",
              "Df Residuals:                     322   BIC:                             2066.\n",
              "Df Model:                          10                                         \n",
              "Covariance Type:            nonrobust                                         \n",
              "==============================================================================\n",
              "                 coef    std err          t      P>|t|      [0.025      0.975]\n",
              "------------------------------------------------------------------------------\n",
              "const         40.3742      6.156      6.558      0.000      28.262      52.486\n",
              "x1             0.0311      0.076      0.411      0.682      -0.118       0.180\n",
              "x2             4.1569      1.178      3.528      0.000       1.839       6.475\n",
              "x3           -17.3926      4.961     -3.506      0.001     -27.153      -7.632\n",
              "x4             3.8496      0.525      7.329      0.000       2.816       4.883\n",
              "x5            -0.0061      0.017     -0.356      0.722      -0.040       0.028\n",
              "x6            -1.2646      0.253     -4.989      0.000      -1.763      -0.766\n",
              "x7             0.2584      0.079      3.257      0.001       0.102       0.415\n",
              "x8            -0.0105      0.005     -2.318      0.021      -0.019      -0.002\n",
              "x9            -0.9617      0.162     -5.935      0.000      -1.281      -0.643\n",
              "x10           -0.6368      0.063    -10.156      0.000      -0.760      -0.513\n",
              "==============================================================================\n",
              "Omnibus:                      120.893   Durbin-Watson:                   1.030\n",
              "Prob(Omnibus):                  0.000   Jarque-Bera (JB):              459.496\n",
              "Skew:                           1.557   Prob(JB):                    1.67e-100\n",
              "Kurtosis:                       7.840   Cond. No.                     1.16e+04\n",
              "==============================================================================\n",
              "\n",
              "Warnings:\n",
              "[1] Standard Errors assume that the covariance matrix of the errors is correctly specified.\n",
              "[2] The condition number is large, 1.16e+04. This might indicate that there are\n",
              "strong multicollinearity or other numerical problems.\n",
              "\"\"\""
            ],
            "text/html": [
              "<table class=\"simpletable\">\n",
              "<caption>OLS Regression Results</caption>\n",
              "<tr>\n",
              "  <th>Dep. Variable:</th>          <td>medv</td>       <th>  R-squared:         </th> <td>   0.715</td>\n",
              "</tr>\n",
              "<tr>\n",
              "  <th>Model:</th>                   <td>OLS</td>       <th>  Adj. R-squared:    </th> <td>   0.706</td>\n",
              "</tr>\n",
              "<tr>\n",
              "  <th>Method:</th>             <td>Least Squares</td>  <th>  F-statistic:       </th> <td>   80.83</td>\n",
              "</tr>\n",
              "<tr>\n",
              "  <th>Date:</th>             <td>Mon, 25 Jul 2022</td> <th>  Prob (F-statistic):</th> <td>1.25e-81</td>\n",
              "</tr>\n",
              "<tr>\n",
              "  <th>Time:</th>                 <td>19:16:11</td>     <th>  Log-Likelihood:    </th> <td> -1001.0</td>\n",
              "</tr>\n",
              "<tr>\n",
              "  <th>No. Observations:</th>      <td>   333</td>      <th>  AIC:               </th> <td>   2024.</td>\n",
              "</tr>\n",
              "<tr>\n",
              "  <th>Df Residuals:</th>          <td>   322</td>      <th>  BIC:               </th> <td>   2066.</td>\n",
              "</tr>\n",
              "<tr>\n",
              "  <th>Df Model:</th>              <td>    10</td>      <th>                     </th>     <td> </td>   \n",
              "</tr>\n",
              "<tr>\n",
              "  <th>Covariance Type:</th>      <td>nonrobust</td>    <th>                     </th>     <td> </td>   \n",
              "</tr>\n",
              "</table>\n",
              "<table class=\"simpletable\">\n",
              "<tr>\n",
              "    <td></td>       <th>coef</th>     <th>std err</th>      <th>t</th>      <th>P>|t|</th>  <th>[0.025</th>    <th>0.975]</th>  \n",
              "</tr>\n",
              "<tr>\n",
              "  <th>const</th> <td>   40.3742</td> <td>    6.156</td> <td>    6.558</td> <td> 0.000</td> <td>   28.262</td> <td>   52.486</td>\n",
              "</tr>\n",
              "<tr>\n",
              "  <th>x1</th>    <td>    0.0311</td> <td>    0.076</td> <td>    0.411</td> <td> 0.682</td> <td>   -0.118</td> <td>    0.180</td>\n",
              "</tr>\n",
              "<tr>\n",
              "  <th>x2</th>    <td>    4.1569</td> <td>    1.178</td> <td>    3.528</td> <td> 0.000</td> <td>    1.839</td> <td>    6.475</td>\n",
              "</tr>\n",
              "<tr>\n",
              "  <th>x3</th>    <td>  -17.3926</td> <td>    4.961</td> <td>   -3.506</td> <td> 0.001</td> <td>  -27.153</td> <td>   -7.632</td>\n",
              "</tr>\n",
              "<tr>\n",
              "  <th>x4</th>    <td>    3.8496</td> <td>    0.525</td> <td>    7.329</td> <td> 0.000</td> <td>    2.816</td> <td>    4.883</td>\n",
              "</tr>\n",
              "<tr>\n",
              "  <th>x5</th>    <td>   -0.0061</td> <td>    0.017</td> <td>   -0.356</td> <td> 0.722</td> <td>   -0.040</td> <td>    0.028</td>\n",
              "</tr>\n",
              "<tr>\n",
              "  <th>x6</th>    <td>   -1.2646</td> <td>    0.253</td> <td>   -4.989</td> <td> 0.000</td> <td>   -1.763</td> <td>   -0.766</td>\n",
              "</tr>\n",
              "<tr>\n",
              "  <th>x7</th>    <td>    0.2584</td> <td>    0.079</td> <td>    3.257</td> <td> 0.001</td> <td>    0.102</td> <td>    0.415</td>\n",
              "</tr>\n",
              "<tr>\n",
              "  <th>x8</th>    <td>   -0.0105</td> <td>    0.005</td> <td>   -2.318</td> <td> 0.021</td> <td>   -0.019</td> <td>   -0.002</td>\n",
              "</tr>\n",
              "<tr>\n",
              "  <th>x9</th>    <td>   -0.9617</td> <td>    0.162</td> <td>   -5.935</td> <td> 0.000</td> <td>   -1.281</td> <td>   -0.643</td>\n",
              "</tr>\n",
              "<tr>\n",
              "  <th>x10</th>   <td>   -0.6368</td> <td>    0.063</td> <td>  -10.156</td> <td> 0.000</td> <td>   -0.760</td> <td>   -0.513</td>\n",
              "</tr>\n",
              "</table>\n",
              "<table class=\"simpletable\">\n",
              "<tr>\n",
              "  <th>Omnibus:</th>       <td>120.893</td> <th>  Durbin-Watson:     </th> <td>   1.030</td> \n",
              "</tr>\n",
              "<tr>\n",
              "  <th>Prob(Omnibus):</th> <td> 0.000</td>  <th>  Jarque-Bera (JB):  </th> <td> 459.496</td> \n",
              "</tr>\n",
              "<tr>\n",
              "  <th>Skew:</th>          <td> 1.557</td>  <th>  Prob(JB):          </th> <td>1.67e-100</td>\n",
              "</tr>\n",
              "<tr>\n",
              "  <th>Kurtosis:</th>      <td> 7.840</td>  <th>  Cond. No.          </th> <td>1.16e+04</td> \n",
              "</tr>\n",
              "</table><br/><br/>Warnings:<br/>[1] Standard Errors assume that the covariance matrix of the errors is correctly specified.<br/>[2] The condition number is large, 1.16e+04. This might indicate that there are<br/>strong multicollinearity or other numerical problems."
            ]
          },
          "metadata": {},
          "execution_count": 84
        }
      ]
    },
    {
      "cell_type": "code",
      "source": [
        ""
      ],
      "metadata": {
        "id": "V2WxKlQjyEnF"
      },
      "execution_count": null,
      "outputs": []
    },
    {
      "cell_type": "code",
      "source": [
        ""
      ],
      "metadata": {
        "id": "wf2zoORiuwMN"
      },
      "execution_count": null,
      "outputs": []
    },
    {
      "cell_type": "code",
      "source": [
        ""
      ],
      "metadata": {
        "id": "HraaSE-OuwPI"
      },
      "execution_count": null,
      "outputs": []
    },
    {
      "cell_type": "code",
      "source": [
        ""
      ],
      "metadata": {
        "id": "9sn_ShGit68v"
      },
      "execution_count": null,
      "outputs": []
    }
  ]
}